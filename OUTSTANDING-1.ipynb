{
 "cells": [
  {
   "cell_type": "code",
   "execution_count": 1,
   "id": "e6c88dc1",
   "metadata": {},
   "outputs": [],
   "source": [
    "import numpy as np\n",
    "import pandas as pd\n",
    "import matplotlib.pyplot as plt\n",
    "%matplotlib inline"
   ]
  },
  {
   "cell_type": "code",
   "execution_count": 2,
   "id": "b9b55307",
   "metadata": {},
   "outputs": [],
   "source": [
    "loan = pd.read_csv(\"E:\\\\notebook\\\\outstanding_projects\\\\loan1.csv\")"
   ]
  },
  {
   "cell_type": "code",
   "execution_count": 3,
   "id": "f24068d0",
   "metadata": {},
   "outputs": [
    {
     "name": "stdout",
     "output_type": "stream",
     "text": [
      "<class 'pandas.core.frame.DataFrame'>\n",
      "RangeIndex: 614 entries, 0 to 613\n",
      "Data columns (total 13 columns):\n",
      " #   Column             Non-Null Count  Dtype  \n",
      "---  ------             --------------  -----  \n",
      " 0   Loan_ID            614 non-null    object \n",
      " 1   Gender             601 non-null    object \n",
      " 2   Married            611 non-null    object \n",
      " 3   Dependents         599 non-null    object \n",
      " 4   Education          614 non-null    object \n",
      " 5   Self_Employed      582 non-null    object \n",
      " 6   ApplicantIncome    614 non-null    int64  \n",
      " 7   CoapplicantIncome  614 non-null    float64\n",
      " 8   LoanAmount         592 non-null    float64\n",
      " 9   Loan_Amount_Term   600 non-null    float64\n",
      " 10  Credit_History     564 non-null    float64\n",
      " 11  Property_Area      614 non-null    object \n",
      " 12  Loan_Status        614 non-null    object \n",
      "dtypes: float64(4), int64(1), object(8)\n",
      "memory usage: 62.5+ KB\n"
     ]
    }
   ],
   "source": [
    "loan.info()"
   ]
  },
  {
   "cell_type": "code",
   "execution_count": 4,
   "id": "658e46cb",
   "metadata": {},
   "outputs": [
    {
     "data": {
      "text/plain": [
       "(614, 13)"
      ]
     },
     "execution_count": 4,
     "metadata": {},
     "output_type": "execute_result"
    }
   ],
   "source": [
    "loan.shape"
   ]
  },
  {
   "cell_type": "code",
   "execution_count": 5,
   "id": "b5db2bea",
   "metadata": {
    "scrolled": true
   },
   "outputs": [],
   "source": [
    "loan = loan.drop(columns = 'Loan_ID')"
   ]
  },
  {
   "cell_type": "code",
   "execution_count": 6,
   "id": "27766e0f",
   "metadata": {},
   "outputs": [],
   "source": [
    "numerical = ['ApplicantIncome','CoapplicantIncome','LoanAmount','Loan_Amount_Term','Credit_History']"
   ]
  },
  {
   "cell_type": "code",
   "execution_count": 7,
   "id": "eec813e4",
   "metadata": {},
   "outputs": [],
   "source": [
    "categorical = ['Gender','Married','Dependents','Education','Self_Employed','Property_Area','Loan_Status']"
   ]
  },
  {
   "cell_type": "code",
   "execution_count": 8,
   "id": "0e0a523a",
   "metadata": {},
   "outputs": [
    {
     "data": {
      "text/plain": [
       "(['ApplicantIncome',\n",
       "  'CoapplicantIncome',\n",
       "  'LoanAmount',\n",
       "  'Loan_Amount_Term',\n",
       "  'Credit_History'],\n",
       " ['Gender',\n",
       "  'Married',\n",
       "  'Dependents',\n",
       "  'Education',\n",
       "  'Self_Employed',\n",
       "  'Property_Area',\n",
       "  'Loan_Status'])"
      ]
     },
     "execution_count": 8,
     "metadata": {},
     "output_type": "execute_result"
    }
   ],
   "source": [
    "numerical , categorical"
   ]
  },
  {
   "cell_type": "markdown",
   "id": "f0841e31",
   "metadata": {},
   "source": [
    "## GETTING DUMMIES"
   ]
  },
  {
   "cell_type": "code",
   "execution_count": 9,
   "id": "64045213",
   "metadata": {},
   "outputs": [],
   "source": [
    "loan = pd.get_dummies(loan,drop_first=True)"
   ]
  },
  {
   "cell_type": "code",
   "execution_count": 10,
   "id": "9be6bd8a",
   "metadata": {},
   "outputs": [
    {
     "data": {
      "text/plain": [
       "ApplicantIncome            False\n",
       "CoapplicantIncome          False\n",
       "LoanAmount                  True\n",
       "Loan_Amount_Term            True\n",
       "Credit_History              True\n",
       "Gender_Male                False\n",
       "Married_Yes                False\n",
       "Dependents_1               False\n",
       "Dependents_2               False\n",
       "Dependents_3+              False\n",
       "Education_Not Graduate     False\n",
       "Self_Employed_Yes          False\n",
       "Property_Area_Semiurban    False\n",
       "Property_Area_Urban        False\n",
       "Loan_Status_Y              False\n",
       "dtype: bool"
      ]
     },
     "execution_count": 10,
     "metadata": {},
     "output_type": "execute_result"
    }
   ],
   "source": [
    "loan.isna().any()"
   ]
  },
  {
   "cell_type": "markdown",
   "id": "259fbb91",
   "metadata": {},
   "source": [
    "### X AND Y FOR LOAN -------------- AMOUNT PREDICTION \n",
    "### X_FOR_STATUS AND Y_FOR_STATUS  ---  APPROVAL PREDICTION"
   ]
  },
  {
   "cell_type": "code",
   "execution_count": 11,
   "id": "52e9228c",
   "metadata": {},
   "outputs": [
    {
     "data": {
      "text/plain": [
       "Index(['ApplicantIncome', 'CoapplicantIncome', 'LoanAmount',\n",
       "       'Loan_Amount_Term', 'Credit_History', 'Gender_Male', 'Married_Yes',\n",
       "       'Dependents_1', 'Dependents_2', 'Dependents_3+',\n",
       "       'Education_Not Graduate', 'Self_Employed_Yes',\n",
       "       'Property_Area_Semiurban', 'Property_Area_Urban', 'Loan_Status_Y'],\n",
       "      dtype='object')"
      ]
     },
     "execution_count": 11,
     "metadata": {},
     "output_type": "execute_result"
    }
   ],
   "source": [
    "loan.columns"
   ]
  },
  {
   "cell_type": "code",
   "execution_count": 12,
   "id": "ea613862",
   "metadata": {},
   "outputs": [
    {
     "data": {
      "text/plain": [
       "0      1\n",
       "1      0\n",
       "2      1\n",
       "3      1\n",
       "4      1\n",
       "      ..\n",
       "609    1\n",
       "610    1\n",
       "611    1\n",
       "612    1\n",
       "613    0\n",
       "Name: Loan_Status_Y, Length: 614, dtype: uint8"
      ]
     },
     "execution_count": 12,
     "metadata": {},
     "output_type": "execute_result"
    }
   ],
   "source": [
    "loan['Loan_Status_Y']"
   ]
  },
  {
   "cell_type": "code",
   "execution_count": null,
   "id": "7c705341",
   "metadata": {},
   "outputs": [],
   "source": []
  },
  {
   "cell_type": "markdown",
   "id": "84577019",
   "metadata": {},
   "source": [
    "### Filling null values"
   ]
  },
  {
   "cell_type": "code",
   "execution_count": 13,
   "id": "f1344487",
   "metadata": {},
   "outputs": [],
   "source": [
    "loan['LoanAmount'] = loan['LoanAmount'].fillna(loan['LoanAmount'].mean())"
   ]
  },
  {
   "cell_type": "code",
   "execution_count": 14,
   "id": "7f3a5339",
   "metadata": {},
   "outputs": [],
   "source": [
    "loan['Loan_Amount_Term'] = loan['Loan_Amount_Term'].fillna(loan['Loan_Amount_Term'].mean())"
   ]
  },
  {
   "cell_type": "code",
   "execution_count": 15,
   "id": "3130c7c9",
   "metadata": {},
   "outputs": [],
   "source": [
    "loan['Credit_History'] = loan['Credit_History'].fillna(loan['Credit_History'].mean())"
   ]
  },
  {
   "cell_type": "code",
   "execution_count": null,
   "id": "735aca05",
   "metadata": {},
   "outputs": [],
   "source": []
  },
  {
   "cell_type": "code",
   "execution_count": 16,
   "id": "7f15018d",
   "metadata": {},
   "outputs": [],
   "source": [
    "y = loan['LoanAmount']"
   ]
  },
  {
   "cell_type": "code",
   "execution_count": 17,
   "id": "380c23ce",
   "metadata": {},
   "outputs": [],
   "source": [
    "x = loan.drop(columns = 'LoanAmount')"
   ]
  },
  {
   "cell_type": "code",
   "execution_count": 18,
   "id": "57241691",
   "metadata": {},
   "outputs": [],
   "source": [
    "x_for_status = loan.drop(columns = 'Loan_Status_Y')"
   ]
  },
  {
   "cell_type": "code",
   "execution_count": 19,
   "id": "98a9c5f0",
   "metadata": {},
   "outputs": [],
   "source": [
    "y_for_status = loan['Loan_Status_Y']"
   ]
  },
  {
   "cell_type": "code",
   "execution_count": null,
   "id": "12e770c2",
   "metadata": {},
   "outputs": [],
   "source": []
  },
  {
   "cell_type": "markdown",
   "id": "0f451d18",
   "metadata": {},
   "source": [
    "### Training model"
   ]
  },
  {
   "cell_type": "code",
   "execution_count": 20,
   "id": "98bb5a32",
   "metadata": {},
   "outputs": [],
   "source": [
    "from sklearn.linear_model import LinearRegression\n",
    "from sklearn.linear_model import LogisticRegression\n",
    "from sklearn.model_selection import train_test_split\n",
    "from sklearn.tree import DecisionTreeClassifier"
   ]
  },
  {
   "cell_type": "code",
   "execution_count": 21,
   "id": "f0d6b6f5",
   "metadata": {},
   "outputs": [],
   "source": [
    "tree = LinearRegression()\n",
    "log = LogisticRegression()"
   ]
  },
  {
   "cell_type": "code",
   "execution_count": 34,
   "id": "538de724",
   "metadata": {},
   "outputs": [],
   "source": [
    "X_train, X_test, y_train, y_test = train_test_split(x , y , train_size = 0.7)"
   ]
  },
  {
   "cell_type": "code",
   "execution_count": 35,
   "id": "f1ed7f56",
   "metadata": {},
   "outputs": [
    {
     "data": {
      "text/plain": [
       "LinearRegression()"
      ]
     },
     "execution_count": 35,
     "metadata": {},
     "output_type": "execute_result"
    }
   ],
   "source": [
    "tree.fit(X_train,y_train)"
   ]
  },
  {
   "cell_type": "code",
   "execution_count": 36,
   "id": "cb8bceee",
   "metadata": {},
   "outputs": [
    {
     "data": {
      "text/plain": [
       "0.38767282905458633"
      ]
     },
     "execution_count": 36,
     "metadata": {},
     "output_type": "execute_result"
    }
   ],
   "source": [
    "tree.score(X_test,y_test)"
   ]
  },
  {
   "cell_type": "code",
   "execution_count": 37,
   "id": "a6637ae4",
   "metadata": {},
   "outputs": [],
   "source": [
    "mod = tree.predict(X_test)"
   ]
  },
  {
   "cell_type": "code",
   "execution_count": 38,
   "id": "21413821",
   "metadata": {},
   "outputs": [
    {
     "data": {
      "text/plain": [
       "array([124.21763404,  67.7177703 , 129.38000216, 188.10656807,\n",
       "       150.15597732, 136.36280834, 125.33703472, 117.12502129,\n",
       "       127.99030501, 115.2449786 ])"
      ]
     },
     "execution_count": 38,
     "metadata": {},
     "output_type": "execute_result"
    }
   ],
   "source": [
    "mod[:10]"
   ]
  },
  {
   "cell_type": "code",
   "execution_count": 27,
   "id": "2e8bd3b1",
   "metadata": {},
   "outputs": [
    {
     "data": {
      "text/plain": [
       "243    108.0\n",
       "247    137.0\n",
       "240    120.0\n",
       "18     133.0\n",
       "484    246.0\n",
       "564    258.0\n",
       "104    160.0\n",
       "330    117.0\n",
       "38     184.0\n",
       "498     95.0\n",
       "Name: LoanAmount, dtype: float64"
      ]
     },
     "execution_count": 27,
     "metadata": {},
     "output_type": "execute_result"
    }
   ],
   "source": [
    "y_test[:10]"
   ]
  },
  {
   "cell_type": "markdown",
   "id": "3114032c",
   "metadata": {},
   "source": [
    "### Predicting loan approval"
   ]
  },
  {
   "cell_type": "code",
   "execution_count": 28,
   "id": "701f28b8",
   "metadata": {},
   "outputs": [],
   "source": [
    "X_trains, X_tests, y_trains, y_tests = train_test_split(x_for_status , y_for_status , train_size = 0.8)"
   ]
  },
  {
   "cell_type": "code",
   "execution_count": 29,
   "id": "ed0ac5d6",
   "metadata": {},
   "outputs": [
    {
     "data": {
      "text/plain": [
       "LogisticRegression()"
      ]
     },
     "execution_count": 29,
     "metadata": {},
     "output_type": "execute_result"
    }
   ],
   "source": [
    "log.fit(X_trains,y_trains)"
   ]
  },
  {
   "cell_type": "code",
   "execution_count": 30,
   "id": "aa681077",
   "metadata": {},
   "outputs": [
    {
     "data": {
      "text/plain": [
       "0.7479674796747967"
      ]
     },
     "execution_count": 30,
     "metadata": {},
     "output_type": "execute_result"
    }
   ],
   "source": [
    "log.score(X_tests,y_tests)"
   ]
  },
  {
   "cell_type": "code",
   "execution_count": 31,
   "id": "8242f790",
   "metadata": {},
   "outputs": [],
   "source": [
    "p = log.predict(X_tests)"
   ]
  },
  {
   "cell_type": "code",
   "execution_count": 32,
   "id": "678294a0",
   "metadata": {},
   "outputs": [
    {
     "data": {
      "text/plain": [
       "array([1, 0, 1, 1, 1, 1, 1, 1, 1, 1], dtype=uint8)"
      ]
     },
     "execution_count": 32,
     "metadata": {},
     "output_type": "execute_result"
    }
   ],
   "source": [
    "p[:10]"
   ]
  },
  {
   "cell_type": "code",
   "execution_count": 33,
   "id": "c2299ef3",
   "metadata": {},
   "outputs": [
    {
     "data": {
      "text/plain": [
       "443    1\n",
       "414    0\n",
       "194    1\n",
       "221    1\n",
       "377    1\n",
       "      ..\n",
       "120    1\n",
       "587    1\n",
       "61     1\n",
       "379    1\n",
       "480    1\n",
       "Name: Loan_Status_Y, Length: 123, dtype: uint8"
      ]
     },
     "execution_count": 33,
     "metadata": {},
     "output_type": "execute_result"
    }
   ],
   "source": [
    "y_tests"
   ]
  },
  {
   "cell_type": "code",
   "execution_count": null,
   "id": "c2aa8659",
   "metadata": {},
   "outputs": [],
   "source": []
  },
  {
   "cell_type": "code",
   "execution_count": null,
   "id": "8f7cd3f0",
   "metadata": {},
   "outputs": [],
   "source": []
  },
  {
   "cell_type": "code",
   "execution_count": null,
   "id": "81fe09f8",
   "metadata": {},
   "outputs": [],
   "source": []
  },
  {
   "cell_type": "code",
   "execution_count": null,
   "id": "05ec6e13",
   "metadata": {},
   "outputs": [],
   "source": []
  },
  {
   "cell_type": "code",
   "execution_count": null,
   "id": "2e2f3d58",
   "metadata": {},
   "outputs": [],
   "source": []
  }
 ],
 "metadata": {
  "kernelspec": {
   "display_name": "Python 3",
   "language": "python",
   "name": "python3"
  },
  "language_info": {
   "codemirror_mode": {
    "name": "ipython",
    "version": 3
   },
   "file_extension": ".py",
   "mimetype": "text/x-python",
   "name": "python",
   "nbconvert_exporter": "python",
   "pygments_lexer": "ipython3",
   "version": "3.9.2"
  }
 },
 "nbformat": 4,
 "nbformat_minor": 5
}
